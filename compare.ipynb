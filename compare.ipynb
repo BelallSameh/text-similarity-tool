{
 "cells": [
  {
   "cell_type": "markdown",
   "metadata": {},
   "source": [
    "# 📚 Text Files Similarity Tool"
   ]
  },
  {
   "cell_type": "markdown",
   "metadata": {},
   "source": [
    "## Import libraries"
   ]
  },
  {
   "cell_type": "code",
   "execution_count": 5,
   "metadata": {},
   "outputs": [],
   "source": [
    "import os\n",
    "import re\n",
    "import nltk\n",
    "import numpy as np\n",
    "from nltk import sent_tokenize, word_tokenize\n",
    "from sklearn.feature_extraction.text import TfidfVectorizer\n",
    "from sklearn.metrics.pairwise import cosine_similarity"
   ]
  },
  {
   "cell_type": "markdown",
   "metadata": {},
   "source": [
    "## Read all text files in the specified directory"
   ]
  },
  {
   "cell_type": "code",
   "execution_count": 6,
   "metadata": {},
   "outputs": [],
   "source": [
    "def read_text_files(directory):\n",
    "    files = [f for f in os.listdir(directory) if f.endswith('.txt')]\n",
    "    texts = []\n",
    "    for file in files:\n",
    "        with open(os.path.join(directory, file), 'r', encoding='utf-8') as f:\n",
    "            text = f.read()\n",
    "            texts.append(text)\n",
    "    return texts"
   ]
  },
  {
   "cell_type": "markdown",
   "metadata": {},
   "source": [
    "## Calculate sentences similarity and highlight them"
   ]
  },
  {
   "cell_type": "code",
   "execution_count": 7,
   "metadata": {},
   "outputs": [],
   "source": [
    "def highlight_sentences(texts):\n",
    "    # Tokenize sentences\n",
    "    sentences = []\n",
    "    for text in texts:\n",
    "        sentences.extend(sent_tokenize(text))\n",
    "        \n",
    "    # Vectorize sentences using TF-IDF\n",
    "    vectorizer = TfidfVectorizer(tokenizer=word_tokenize)\n",
    "    tfidf_matrix = vectorizer.fit_transform(sentences)\n",
    "\n",
    "    # Calculate pairwise cosine similarity between sentences\n",
    "    similarity_matrix = cosine_similarity(tfidf_matrix)\n",
    "    \n",
    "    # Generate HTML with color-coded sentences based on similarity\n",
    "    html_output = \"<html><body>\"\n",
    "    \n",
    "    # Centered header with red text color\n",
    "    html_output += '<h1 style=\"text-align: center; color: rgb(255, 191, 191);\">Text Files Similarity Tool</h1>'\n",
    "    \n",
    "    # Color-coded sentences\n",
    "    for i, sentence in enumerate(sentences):\n",
    "        similarity_scores = similarity_matrix[i]\n",
    "        color_intensity = int(np.mean(similarity_scores) * 255)\n",
    "        color = f\"rgb({255}, {255-color_intensity}, {255-color_intensity})\"  # Red-Green-Blue color format\n",
    "        highlighted_sentence = f'<span style=\"background-color:{color};\">{sentence}</span><br>'\n",
    "        html_output += highlighted_sentence\n",
    "    \n",
    "    html_output += \"</body></html>\"\n",
    "\n",
    "    # Table for displaying sentence similarities\n",
    "    html_output += \"<html><body><hr>\"\n",
    "    html_output += \"<center><h2>Sentence Similarities</h2></center>\"\n",
    "    html_output += \"<table style='width:100%; border-collapse: collapse; border: 1px solid black;'>\"\n",
    "    html_output += \"<tr><th style='border: 1px solid black; padding: 8px;'>Sentence</th><th style='border: 1px solid black; padding: 8px;'>Most Similar Sentence</th><th style='border: 1px solid black; padding: 8px;'>Second Most Similar Sentence</th></tr>\"\n",
    "    \n",
    "    for i, sentence in enumerate(sentences):\n",
    "        similarity_scores = similarity_matrix[i]\n",
    "        # Get indices of top 2 most similar sentences (excluding itself)\n",
    "        most_similar_indices = np.argsort(similarity_scores)[-3:-1][::-1]\n",
    "        most_similar_sentence = sentences[most_similar_indices[0]]\n",
    "        second_most_similar_sentence = sentences[most_similar_indices[1]]\n",
    "        \n",
    "        # Add borders to each cell in the table\n",
    "        html_output += f\"<tr><td style='border: 1px solid black; padding: 8px;'>{sentence}</td><td style='border: 1px solid black; padding: 8px;'>{most_similar_sentence}</td><td style='border: 1px solid black; padding: 8px;'>{second_most_similar_sentence}</td></tr>\"\n",
    "    \n",
    "    html_output += \"</table>\"\n",
    "    html_output += \"</body></html>\"\n",
    "\n",
    "    return html_output"
   ]
  },
  {
   "cell_type": "code",
   "execution_count": 8,
   "metadata": {},
   "outputs": [
    {
     "name": "stdout",
     "output_type": "stream",
     "text": [
      "HTML file 'highlighted_sentences.html' generated successfully.\n"
     ]
    }
   ],
   "source": [
    "directory = './'  # Directory containing text files\n",
    "texts = read_text_files(directory)\n",
    "html_result = highlight_sentences(texts)\n",
    "\n",
    "# Save or display the HTML result\n",
    "with open('highlighted_sentences.html', 'w', encoding='utf-8') as f:\n",
    "    f.write(html_result)\n",
    "print(\"HTML file 'highlighted_sentences.html' generated successfully.\")"
   ]
  }
 ],
 "metadata": {
  "kernelspec": {
   "display_name": "Python 3",
   "language": "python",
   "name": "python3"
  },
  "language_info": {
   "codemirror_mode": {
    "name": "ipython",
    "version": 3
   },
   "file_extension": ".py",
   "mimetype": "text/x-python",
   "name": "python",
   "nbconvert_exporter": "python",
   "pygments_lexer": "ipython3",
   "version": "3.10.8"
  }
 },
 "nbformat": 4,
 "nbformat_minor": 2
}
